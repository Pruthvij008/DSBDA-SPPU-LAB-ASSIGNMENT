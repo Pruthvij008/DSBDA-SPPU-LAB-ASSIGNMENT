{
 "cells": [
  {
   "cell_type": "code",
   "execution_count": 1,
   "id": "a2af375a",
   "metadata": {},
   "outputs": [
    {
     "name": "stderr",
     "output_type": "stream",
     "text": [
      "[nltk_data] Downloading package punkt to C:\\Users\\RoG\n",
      "[nltk_data]     STRIX\\AppData\\Roaming\\nltk_data...\n",
      "[nltk_data]   Package punkt is already up-to-date!\n",
      "[nltk_data] Downloading package stopwords to C:\\Users\\RoG\n",
      "[nltk_data]     STRIX\\AppData\\Roaming\\nltk_data...\n",
      "[nltk_data]   Package stopwords is already up-to-date!\n",
      "[nltk_data] Downloading package wordnet to C:\\Users\\RoG\n",
      "[nltk_data]     STRIX\\AppData\\Roaming\\nltk_data...\n",
      "[nltk_data]   Package wordnet is already up-to-date!\n",
      "[nltk_data] Downloading package averaged_perceptron_tagger to\n",
      "[nltk_data]     C:\\Users\\RoG STRIX\\AppData\\Roaming\\nltk_data...\n",
      "[nltk_data]   Package averaged_perceptron_tagger is already up-to-\n",
      "[nltk_data]       date!\n"
     ]
    },
    {
     "data": {
      "text/plain": [
       "True"
      ]
     },
     "execution_count": 1,
     "metadata": {},
     "output_type": "execute_result"
    }
   ],
   "source": [
    "import nltk\n",
    "nltk.download('punkt')\n",
    "nltk.download('stopwords')\n",
    "nltk.download('wordnet')\n",
    "nltk.download('averaged_perceptron_tagger')"
   ]
  },
  {
   "cell_type": "code",
   "execution_count": 2,
   "id": "c9c5cba2",
   "metadata": {},
   "outputs": [],
   "source": [
    "text= \"Text tokenization serves as the initial phase of natural language processing. It involves segmenting a given text into individual units, like words or sentences, which are known as tokens.\""
   ]
  },
  {
   "cell_type": "code",
   "execution_count": 3,
   "id": "abdf2d27",
   "metadata": {},
   "outputs": [],
   "source": [
    "from nltk.tokenize import sent_tokenize"
   ]
  },
  {
   "cell_type": "code",
   "execution_count": 4,
   "id": "44a5f0d9",
   "metadata": {},
   "outputs": [],
   "source": [
    "tokenized_text=sent_tokenize(text)"
   ]
  },
  {
   "cell_type": "code",
   "execution_count": 5,
   "id": "3cb064c0",
   "metadata": {},
   "outputs": [
    {
     "data": {
      "text/plain": [
       "['Text tokenization serves as the initial phase of natural language processing.',\n",
       " 'It involves segmenting a given text into individual units, like words or sentences, which are known as tokens.']"
      ]
     },
     "execution_count": 5,
     "metadata": {},
     "output_type": "execute_result"
    }
   ],
   "source": [
    "tokenized_text"
   ]
  },
  {
   "cell_type": "code",
   "execution_count": 6,
   "id": "ad8e7c6c",
   "metadata": {},
   "outputs": [],
   "source": [
    "from nltk.tokenize import word_tokenize"
   ]
  },
  {
   "cell_type": "code",
   "execution_count": 7,
   "id": "98a2b430",
   "metadata": {},
   "outputs": [],
   "source": [
    "tokenzied_word=word_tokenize(text)"
   ]
  },
  {
   "cell_type": "code",
   "execution_count": 8,
   "id": "b34ed6f7",
   "metadata": {},
   "outputs": [
    {
     "data": {
      "text/plain": [
       "['Text',\n",
       " 'tokenization',\n",
       " 'serves',\n",
       " 'as',\n",
       " 'the',\n",
       " 'initial',\n",
       " 'phase',\n",
       " 'of',\n",
       " 'natural',\n",
       " 'language',\n",
       " 'processing',\n",
       " '.',\n",
       " 'It',\n",
       " 'involves',\n",
       " 'segmenting',\n",
       " 'a',\n",
       " 'given',\n",
       " 'text',\n",
       " 'into',\n",
       " 'individual',\n",
       " 'units',\n",
       " ',',\n",
       " 'like',\n",
       " 'words',\n",
       " 'or',\n",
       " 'sentences',\n",
       " ',',\n",
       " 'which',\n",
       " 'are',\n",
       " 'known',\n",
       " 'as',\n",
       " 'tokens',\n",
       " '.']"
      ]
     },
     "execution_count": 8,
     "metadata": {},
     "output_type": "execute_result"
    }
   ],
   "source": [
    "tokenzied_word"
   ]
  },
  {
   "cell_type": "code",
   "execution_count": 9,
   "id": "791cfef9",
   "metadata": {},
   "outputs": [],
   "source": [
    "#so in the above tokenized word we have the words like is,the ,a and many more also the pinctuation mark to remove it we have a readymade library "
   ]
  },
  {
   "cell_type": "code",
   "execution_count": 10,
   "id": "298b3079",
   "metadata": {},
   "outputs": [],
   "source": [
    "#so lets remove the stopwords\n",
    "\n",
    "from nltk.corpus import stopwords\n",
    "stop_words=set(stopwords.words(\"english\"))"
   ]
  },
  {
   "cell_type": "code",
   "execution_count": 11,
   "id": "aa495ef8",
   "metadata": {},
   "outputs": [
    {
     "data": {
      "text/plain": [
       "{'a',\n",
       " 'about',\n",
       " 'above',\n",
       " 'after',\n",
       " 'again',\n",
       " 'against',\n",
       " 'ain',\n",
       " 'all',\n",
       " 'am',\n",
       " 'an',\n",
       " 'and',\n",
       " 'any',\n",
       " 'are',\n",
       " 'aren',\n",
       " \"aren't\",\n",
       " 'as',\n",
       " 'at',\n",
       " 'be',\n",
       " 'because',\n",
       " 'been',\n",
       " 'before',\n",
       " 'being',\n",
       " 'below',\n",
       " 'between',\n",
       " 'both',\n",
       " 'but',\n",
       " 'by',\n",
       " 'can',\n",
       " 'couldn',\n",
       " \"couldn't\",\n",
       " 'd',\n",
       " 'did',\n",
       " 'didn',\n",
       " \"didn't\",\n",
       " 'do',\n",
       " 'does',\n",
       " 'doesn',\n",
       " \"doesn't\",\n",
       " 'doing',\n",
       " 'don',\n",
       " \"don't\",\n",
       " 'down',\n",
       " 'during',\n",
       " 'each',\n",
       " 'few',\n",
       " 'for',\n",
       " 'from',\n",
       " 'further',\n",
       " 'had',\n",
       " 'hadn',\n",
       " \"hadn't\",\n",
       " 'has',\n",
       " 'hasn',\n",
       " \"hasn't\",\n",
       " 'have',\n",
       " 'haven',\n",
       " \"haven't\",\n",
       " 'having',\n",
       " 'he',\n",
       " 'her',\n",
       " 'here',\n",
       " 'hers',\n",
       " 'herself',\n",
       " 'him',\n",
       " 'himself',\n",
       " 'his',\n",
       " 'how',\n",
       " 'i',\n",
       " 'if',\n",
       " 'in',\n",
       " 'into',\n",
       " 'is',\n",
       " 'isn',\n",
       " \"isn't\",\n",
       " 'it',\n",
       " \"it's\",\n",
       " 'its',\n",
       " 'itself',\n",
       " 'just',\n",
       " 'll',\n",
       " 'm',\n",
       " 'ma',\n",
       " 'me',\n",
       " 'mightn',\n",
       " \"mightn't\",\n",
       " 'more',\n",
       " 'most',\n",
       " 'mustn',\n",
       " \"mustn't\",\n",
       " 'my',\n",
       " 'myself',\n",
       " 'needn',\n",
       " \"needn't\",\n",
       " 'no',\n",
       " 'nor',\n",
       " 'not',\n",
       " 'now',\n",
       " 'o',\n",
       " 'of',\n",
       " 'off',\n",
       " 'on',\n",
       " 'once',\n",
       " 'only',\n",
       " 'or',\n",
       " 'other',\n",
       " 'our',\n",
       " 'ours',\n",
       " 'ourselves',\n",
       " 'out',\n",
       " 'over',\n",
       " 'own',\n",
       " 're',\n",
       " 's',\n",
       " 'same',\n",
       " 'shan',\n",
       " \"shan't\",\n",
       " 'she',\n",
       " \"she's\",\n",
       " 'should',\n",
       " \"should've\",\n",
       " 'shouldn',\n",
       " \"shouldn't\",\n",
       " 'so',\n",
       " 'some',\n",
       " 'such',\n",
       " 't',\n",
       " 'than',\n",
       " 'that',\n",
       " \"that'll\",\n",
       " 'the',\n",
       " 'their',\n",
       " 'theirs',\n",
       " 'them',\n",
       " 'themselves',\n",
       " 'then',\n",
       " 'there',\n",
       " 'these',\n",
       " 'they',\n",
       " 'this',\n",
       " 'those',\n",
       " 'through',\n",
       " 'to',\n",
       " 'too',\n",
       " 'under',\n",
       " 'until',\n",
       " 'up',\n",
       " 've',\n",
       " 'very',\n",
       " 'was',\n",
       " 'wasn',\n",
       " \"wasn't\",\n",
       " 'we',\n",
       " 'were',\n",
       " 'weren',\n",
       " \"weren't\",\n",
       " 'what',\n",
       " 'when',\n",
       " 'where',\n",
       " 'which',\n",
       " 'while',\n",
       " 'who',\n",
       " 'whom',\n",
       " 'why',\n",
       " 'will',\n",
       " 'with',\n",
       " 'won',\n",
       " \"won't\",\n",
       " 'wouldn',\n",
       " \"wouldn't\",\n",
       " 'y',\n",
       " 'you',\n",
       " \"you'd\",\n",
       " \"you'll\",\n",
       " \"you're\",\n",
       " \"you've\",\n",
       " 'your',\n",
       " 'yours',\n",
       " 'yourself',\n",
       " 'yourselves'}"
      ]
     },
     "execution_count": 11,
     "metadata": {},
     "output_type": "execute_result"
    }
   ],
   "source": [
    "stop_words"
   ]
  },
  {
   "cell_type": "code",
   "execution_count": 12,
   "id": "992a8451",
   "metadata": {},
   "outputs": [],
   "source": [
    "#this will remove the punctuation from your text\n",
    "\n",
    "test=\"how to remove stop words with Nltk library in python?\"\n",
    "import re\n",
    "text=re.sub('[^a-zA-Z]',\" \",test)"
   ]
  },
  {
   "cell_type": "code",
   "execution_count": 13,
   "id": "f92d8b51",
   "metadata": {},
   "outputs": [
    {
     "data": {
      "text/plain": [
       "'how to remove stop words with Nltk library in python '"
      ]
     },
     "execution_count": 13,
     "metadata": {},
     "output_type": "execute_result"
    }
   ],
   "source": [
    "text"
   ]
  },
  {
   "cell_type": "code",
   "execution_count": 14,
   "id": "9371f66f",
   "metadata": {},
   "outputs": [],
   "source": [
    "tokens=word_tokenize(text.lower())"
   ]
  },
  {
   "cell_type": "code",
   "execution_count": 15,
   "id": "4bb55035",
   "metadata": {},
   "outputs": [
    {
     "data": {
      "text/plain": [
       "['how',\n",
       " 'to',\n",
       " 'remove',\n",
       " 'stop',\n",
       " 'words',\n",
       " 'with',\n",
       " 'nltk',\n",
       " 'library',\n",
       " 'in',\n",
       " 'python']"
      ]
     },
     "execution_count": 15,
     "metadata": {},
     "output_type": "execute_result"
    }
   ],
   "source": [
    "tokens"
   ]
  },
  {
   "cell_type": "code",
   "execution_count": 16,
   "id": "1f97ddf5",
   "metadata": {},
   "outputs": [],
   "source": [
    "#now to remove stop words\n",
    "filtered_text=[]\n",
    "for w in tokens:\n",
    "    if w not in stop_words:\n",
    "        filtered_text.append(w)"
   ]
  },
  {
   "cell_type": "code",
   "execution_count": 17,
   "id": "35681e9e",
   "metadata": {},
   "outputs": [
    {
     "data": {
      "text/plain": [
       "['remove', 'stop', 'words', 'nltk', 'library', 'python']"
      ]
     },
     "execution_count": 17,
     "metadata": {},
     "output_type": "execute_result"
    }
   ],
   "source": [
    "filtered_text"
   ]
  },
  {
   "cell_type": "code",
   "execution_count": 18,
   "id": "80ea75b6",
   "metadata": {},
   "outputs": [],
   "source": [
    "#so basically in stemming arguing argued all are converted to argue\n",
    "#in lemmanization studies will be converted to study"
   ]
  },
  {
   "cell_type": "code",
   "execution_count": 19,
   "id": "9e1e343e",
   "metadata": {},
   "outputs": [],
   "source": [
    "from nltk.stem import PorterStemmer\n",
    "e_word=[\"wait\",\"waiting\",\"waited\"]\n",
    "ps=PorterStemmer()\n",
    "for w in e_word:\n",
    "    rootword=ps.stem(w)"
   ]
  },
  {
   "cell_type": "code",
   "execution_count": 20,
   "id": "59ab98c9",
   "metadata": {},
   "outputs": [
    {
     "data": {
      "text/plain": [
       "'wait'"
      ]
     },
     "execution_count": 20,
     "metadata": {},
     "output_type": "execute_result"
    }
   ],
   "source": [
    "rootword"
   ]
  },
  {
   "cell_type": "code",
   "execution_count": 21,
   "id": "a3c198c4",
   "metadata": {},
   "outputs": [],
   "source": [
    "#lemmatizion"
   ]
  },
  {
   "cell_type": "code",
   "execution_count": 22,
   "id": "fdaa1d6f",
   "metadata": {},
   "outputs": [
    {
     "name": "stdout",
     "output_type": "stream",
     "text": [
      "Lemma for studies is study\n",
      "Lemma for studying is studying\n",
      "Lemma for cries is cry\n",
      "Lemma for cry is cry\n"
     ]
    }
   ],
   "source": [
    "from nltk.stem import WordNetLemmatizer\n",
    "wordnet_lemmatizer = WordNetLemmatizer()\n",
    "text = \"studies studying cries cry\"\n",
    "tokenization = nltk.word_tokenize(text)\n",
    "for w in tokenization:\n",
    "    print(\"Lemma for {} is {}\".format(w,wordnet_lemmatizer.lemmatize(w)))"
   ]
  },
  {
   "cell_type": "code",
   "execution_count": 23,
   "id": "b973f030",
   "metadata": {},
   "outputs": [],
   "source": [
    "#difference between them"
   ]
  },
  {
   "cell_type": "code",
   "execution_count": 24,
   "id": "62a7e5f8",
   "metadata": {},
   "outputs": [
    {
     "name": "stdout",
     "output_type": "stream",
     "text": [
      "studi\n",
      "studi\n",
      "cri\n",
      "cri\n"
     ]
    }
   ],
   "source": [
    "e_word=[\"studies\",\"studying\",\"cries\",\"cry\"]\n",
    "ps=PorterStemmer()\n",
    "for w in e_word:\n",
    "    rootword=ps.stem(w)\n",
    "    print(rootword)"
   ]
  },
  {
   "cell_type": "code",
   "execution_count": 25,
   "id": "b0635d47",
   "metadata": {},
   "outputs": [],
   "source": [
    "#lemma more effective than stemming"
   ]
  },
  {
   "cell_type": "code",
   "execution_count": 27,
   "id": "762457cc",
   "metadata": {},
   "outputs": [
    {
     "name": "stdout",
     "output_type": "stream",
     "text": [
      "[('The', 'DT')]\n",
      "[('blue', 'NN')]\n",
      "[('jacket', 'NN')]\n",
      "[('fits', 'NNS')]\n",
      "[('him', 'PRP')]\n",
      "[('perfectly', 'RB')]\n"
     ]
    }
   ],
   "source": [
    "import nltk\n",
    "from nltk.tokenize import word_tokenize\n",
    "data=\"The blue jacket fits him perfectly\"\n",
    "words=word_tokenize(data)\n",
    "for w in words:\n",
    "    print(nltk.pos_tag([w]))"
   ]
  },
  {
   "cell_type": "code",
   "execution_count": 28,
   "id": "83581cc2",
   "metadata": {},
   "outputs": [],
   "source": [
    "#scond part tfidf and idf and tf and bag of words\n"
   ]
  },
  {
   "cell_type": "code",
   "execution_count": 29,
   "id": "14cc7e3f",
   "metadata": {},
   "outputs": [],
   "source": [
    "import pandas as pd\n",
    "from sklearn.feature_extraction.text import TfidfVectorizer"
   ]
  },
  {
   "cell_type": "code",
   "execution_count": 30,
   "id": "be0b14f9",
   "metadata": {},
   "outputs": [],
   "source": [
    "documentA = 'Jupiter is the largest Planet'\n",
    "documentB = 'Mars is the fourth planet from the Sun'"
   ]
  },
  {
   "cell_type": "code",
   "execution_count": 31,
   "id": "0e5c4581",
   "metadata": {},
   "outputs": [],
   "source": [
    "bagOfWordsA = documentA.split(' ')\n",
    "bagOfWordsB = documentB.split(' ')"
   ]
  },
  {
   "cell_type": "code",
   "execution_count": 32,
   "id": "991f35c2",
   "metadata": {},
   "outputs": [],
   "source": [
    "uniqueWords = set(bagOfWordsA).union(set(bagOfWordsB))"
   ]
  },
  {
   "cell_type": "code",
   "execution_count": 33,
   "id": "a84f2e9c",
   "metadata": {},
   "outputs": [],
   "source": [
    "#to create teh dictionar of words for the occurence"
   ]
  },
  {
   "cell_type": "code",
   "execution_count": 34,
   "id": "ba433284",
   "metadata": {},
   "outputs": [],
   "source": [
    "numOfWordsA = dict.fromkeys(uniqueWords, 0)\n",
    "for word in bagOfWordsA:\n",
    "    numOfWordsA[word] += 1\n",
    "numOfWordsB = dict.fromkeys(uniqueWords, 0)\n",
    "for word in bagOfWordsB:\n",
    "    numOfWordsB[word] += 1"
   ]
  },
  {
   "cell_type": "code",
   "execution_count": 35,
   "id": "4ab2d20e",
   "metadata": {},
   "outputs": [],
   "source": [
    "def computeTF(wordDict, bagOfWords):\n",
    "    tfDict = {}\n",
    "    bagOfWordsCount = len(bagOfWords)\n",
    "    for word, count in wordDict.items():\n",
    "        tfDict[word] = count / float(bagOfWordsCount)\n",
    "    return tfDict"
   ]
  },
  {
   "cell_type": "code",
   "execution_count": 36,
   "id": "06d48231",
   "metadata": {},
   "outputs": [],
   "source": [
    "tfA = computeTF(numOfWordsA, bagOfWordsA)\n",
    "tfB = computeTF(numOfWordsB, bagOfWordsB)"
   ]
  },
  {
   "cell_type": "code",
   "execution_count": 37,
   "id": "3aea3ba1",
   "metadata": {},
   "outputs": [
    {
     "data": {
      "text/plain": [
       "{'fourth': 0.0,\n",
       " 'Planet': 0.2,\n",
       " 'Sun': 0.0,\n",
       " 'is': 0.2,\n",
       " 'Jupiter': 0.2,\n",
       " 'planet': 0.0,\n",
       " 'from': 0.0,\n",
       " 'largest': 0.2,\n",
       " 'Mars': 0.0,\n",
       " 'the': 0.2}"
      ]
     },
     "execution_count": 37,
     "metadata": {},
     "output_type": "execute_result"
    }
   ],
   "source": [
    "tfA"
   ]
  },
  {
   "cell_type": "code",
   "execution_count": 38,
   "id": "bf23f9ec",
   "metadata": {},
   "outputs": [
    {
     "data": {
      "text/plain": [
       "{'fourth': 0.125,\n",
       " 'Planet': 0.0,\n",
       " 'Sun': 0.125,\n",
       " 'is': 0.125,\n",
       " 'Jupiter': 0.0,\n",
       " 'planet': 0.125,\n",
       " 'from': 0.125,\n",
       " 'largest': 0.0,\n",
       " 'Mars': 0.125,\n",
       " 'the': 0.25}"
      ]
     },
     "execution_count": 38,
     "metadata": {},
     "output_type": "execute_result"
    }
   ],
   "source": [
    "tfB"
   ]
  },
  {
   "cell_type": "code",
   "execution_count": 39,
   "id": "d6da69da",
   "metadata": {},
   "outputs": [],
   "source": [
    "#idf"
   ]
  },
  {
   "cell_type": "code",
   "execution_count": 40,
   "id": "f5f32a58",
   "metadata": {},
   "outputs": [],
   "source": [
    "def computeIDF(documents):\n",
    "    import math\n",
    "    n=len(documents)\n",
    "    idfdict=dict.fromkeys(documents[0].keys(),0)\n",
    "    for doc in documents:\n",
    "        for word,val in doc.items():\n",
    "            if val>0:\n",
    "                idfdict[word]+=1\n",
    "    for word,val in idfdict.items():\n",
    "        idfdict[word]=math.log(n/float(val))\n",
    "    return idfdict"
   ]
  },
  {
   "cell_type": "code",
   "execution_count": 41,
   "id": "8e63e1bd",
   "metadata": {},
   "outputs": [],
   "source": [
    "idf =computeIDF([numOfWordsA,numOfWordsB])"
   ]
  },
  {
   "cell_type": "code",
   "execution_count": 42,
   "id": "dbef06bd",
   "metadata": {},
   "outputs": [
    {
     "data": {
      "text/plain": [
       "{'fourth': 0.6931471805599453,\n",
       " 'Planet': 0.6931471805599453,\n",
       " 'Sun': 0.6931471805599453,\n",
       " 'is': 0.0,\n",
       " 'Jupiter': 0.6931471805599453,\n",
       " 'planet': 0.6931471805599453,\n",
       " 'from': 0.6931471805599453,\n",
       " 'largest': 0.6931471805599453,\n",
       " 'Mars': 0.6931471805599453,\n",
       " 'the': 0.0}"
      ]
     },
     "execution_count": 42,
     "metadata": {},
     "output_type": "execute_result"
    }
   ],
   "source": [
    "idf"
   ]
  },
  {
   "cell_type": "code",
   "execution_count": 43,
   "id": "514bb77b",
   "metadata": {},
   "outputs": [],
   "source": [
    "#tfidf"
   ]
  },
  {
   "cell_type": "code",
   "execution_count": 44,
   "id": "14ba94c0",
   "metadata": {},
   "outputs": [
    {
     "data": {
      "text/html": [
       "<div>\n",
       "<style scoped>\n",
       "    .dataframe tbody tr th:only-of-type {\n",
       "        vertical-align: middle;\n",
       "    }\n",
       "\n",
       "    .dataframe tbody tr th {\n",
       "        vertical-align: top;\n",
       "    }\n",
       "\n",
       "    .dataframe thead th {\n",
       "        text-align: right;\n",
       "    }\n",
       "</style>\n",
       "<table border=\"1\" class=\"dataframe\">\n",
       "  <thead>\n",
       "    <tr style=\"text-align: right;\">\n",
       "      <th></th>\n",
       "      <th>fourth</th>\n",
       "      <th>Planet</th>\n",
       "      <th>Sun</th>\n",
       "      <th>is</th>\n",
       "      <th>Jupiter</th>\n",
       "      <th>planet</th>\n",
       "      <th>from</th>\n",
       "      <th>largest</th>\n",
       "      <th>Mars</th>\n",
       "      <th>the</th>\n",
       "    </tr>\n",
       "  </thead>\n",
       "  <tbody>\n",
       "    <tr>\n",
       "      <th>0</th>\n",
       "      <td>0.000000</td>\n",
       "      <td>0.138629</td>\n",
       "      <td>0.000000</td>\n",
       "      <td>0.0</td>\n",
       "      <td>0.138629</td>\n",
       "      <td>0.000000</td>\n",
       "      <td>0.000000</td>\n",
       "      <td>0.138629</td>\n",
       "      <td>0.000000</td>\n",
       "      <td>0.0</td>\n",
       "    </tr>\n",
       "    <tr>\n",
       "      <th>1</th>\n",
       "      <td>0.086643</td>\n",
       "      <td>0.000000</td>\n",
       "      <td>0.086643</td>\n",
       "      <td>0.0</td>\n",
       "      <td>0.000000</td>\n",
       "      <td>0.086643</td>\n",
       "      <td>0.086643</td>\n",
       "      <td>0.000000</td>\n",
       "      <td>0.086643</td>\n",
       "      <td>0.0</td>\n",
       "    </tr>\n",
       "  </tbody>\n",
       "</table>\n",
       "</div>"
      ],
      "text/plain": [
       "     fourth    Planet       Sun   is   Jupiter    planet      from   largest  \\\n",
       "0  0.000000  0.138629  0.000000  0.0  0.138629  0.000000  0.000000  0.138629   \n",
       "1  0.086643  0.000000  0.086643  0.0  0.000000  0.086643  0.086643  0.000000   \n",
       "\n",
       "       Mars  the  \n",
       "0  0.000000  0.0  \n",
       "1  0.086643  0.0  "
      ]
     },
     "execution_count": 44,
     "metadata": {},
     "output_type": "execute_result"
    }
   ],
   "source": [
    "def computeTFIDF(tfBagOfWords, idfs):\n",
    "    tfidf = {}\n",
    "    for word, val in tfBagOfWords.items():\n",
    "        tfidf[word] = val * idfs[word]\n",
    "    return tfidf\n",
    "tfidfA = computeTFIDF(tfA, idf)\n",
    "tfidfB = computeTFIDF(tfB, idf)\n",
    "df = pd.DataFrame([tfidfA, tfidfB])\n",
    "df"
   ]
  },
  {
   "cell_type": "code",
   "execution_count": null,
   "id": "315d7449",
   "metadata": {},
   "outputs": [],
   "source": []
  }
 ],
 "metadata": {
  "kernelspec": {
   "display_name": "Python 3 (ipykernel)",
   "language": "python",
   "name": "python3"
  },
  "language_info": {
   "codemirror_mode": {
    "name": "ipython",
    "version": 3
   },
   "file_extension": ".py",
   "mimetype": "text/x-python",
   "name": "python",
   "nbconvert_exporter": "python",
   "pygments_lexer": "ipython3",
   "version": "3.11.5"
  }
 },
 "nbformat": 4,
 "nbformat_minor": 5
}
